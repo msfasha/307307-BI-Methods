{
 "cells": [
  {
   "cell_type": "markdown",
   "id": "55c2c016",
   "metadata": {},
   "source": [
    "#### Use compound-beta LLM by Groq"
   ]
  },
  {
   "cell_type": "code",
   "execution_count": null,
   "id": "f96dd379",
   "metadata": {},
   "outputs": [
    {
     "name": "stdout",
     "output_type": "stream",
     "text": [
      "The capital of France is Paris.\n"
     ]
    }
   ],
   "source": [
    "import os\n",
    "from groq import Groq\n",
    "\n",
    "# Load the Groq API key from an environment variable\n",
    "api_key = os.environ.get(\"GROQ_API_KEY\")\n",
    "\n",
    "if not api_key:\n",
    "    print(\"Please set the GROQ_API_KEY environment variable.\")\n",
    "    exit()\n",
    "\n",
    "# Initialize the Groq client\n",
    "client = Groq(api_key=api_key)\n",
    "\n",
    "# Define a sample prompt\n",
    "prompt = \"What is the capital of France?\"\n",
    "\n",
    "# Create a chat completion\n",
    "completion = client.chat.completions.create(\n",
    "    model=\"compound-beta\",\n",
    "    messages=[\n",
    "        {\"role\": \"user\", \"content\": prompt},\n",
    "    ],\n",
    "    max_tokens=2048,\n",
    "    stop=None,\n",
    ")\n",
    "\n",
    "# Print the response\n",
    "print(completion.choices[0].message.content)"
   ]
  },
  {
   "cell_type": "markdown",
   "id": "0934ad2f",
   "metadata": {},
   "source": [
    "#### Use Allam LLM by ?"
   ]
  },
  {
   "cell_type": "code",
   "execution_count": null,
   "id": "38db0083",
   "metadata": {},
   "outputs": [
    {
     "name": "stdout",
     "output_type": "stream",
     "text": [
      "The capital of France is Paris. I am pleased to provide you with this information as it is a commonly known fact about the country of France. If you have other questions or if there's anything else I can assist you with, feel free to ask! \n"
     ]
    }
   ],
   "source": [
    "import os\n",
    "from groq import Groq\n",
    "\n",
    "# Load the Groq API key from an environment variable\n",
    "api_key = os.environ.get(\"GROQ_API_KEY\")\n",
    "\n",
    "if not api_key:\n",
    "    print(\"Please set the GROQ_API_KEY environment variable.\")\n",
    "    exit()\n",
    "\n",
    "# Initialize the Groq client\n",
    "client = Groq(api_key=api_key)\n",
    "\n",
    "# Define a sample prompt\n",
    "prompt = \"What is the capital of France?\"\n",
    "\n",
    "# Create a chat completion\n",
    "completion = client.chat.completions.create(\n",
    "    model=\"allam-2-7b\",\n",
    "    messages=[\n",
    "        {\"role\": \"user\", \"content\": prompt},\n",
    "    ],\n",
    "    max_tokens=2048,\n",
    "    stop=None,\n",
    ")\n",
    "\n",
    "# Print the response\n",
    "print(completion.choices[0].message.content)\n"
   ]
  },
  {
   "cell_type": "markdown",
   "id": "1f0a6ab4",
   "metadata": {},
   "source": [
    "#### Allam with an Arabic Prompt"
   ]
  },
  {
   "cell_type": "code",
   "execution_count": 8,
   "id": "bccaa309",
   "metadata": {},
   "outputs": [
    {
     "name": "stdout",
     "output_type": "stream",
     "text": [
      "كمساعد ذكاء اصطناعي، أود توضيح أن هناك عدة دول وإمبراطوريات تحمل اسم \"فرس\" أو \"فرسيا\" عبر التاريخ. لكن عندما تسأل عن عاصمة دولة أو إمبراطورية معينة، أحتاج إلى تحديد الاسم الصحيح لإعطائك إجابة دقيقة. إذا كنت تقصد الإمبراطورية الفارسية أو المملكة الفارسية، كانت عاصمتها القديمة عند البدء الأول تكون «كور/كاوران» والتي تُترجم تقريباً إلى \"القوّة\" باللغة العربية، وبعد التوسع أصبحت «بروسيقا ميدخا» والتي تُمثل الأراضي الممتدة إلى ما هو معروف اليوم بسوريا وتركيا وفلسطين ولبنان وشمال غرب إيران. بعد الزحف اليوناني، أصبحت العاصمة «اكبتانا» والتي تقع في همدان بإيران اليوم. يرجى التأكد من الاسم الصحيح لتزويدك بالمعلومات الأكثر دقة. \n",
      "عاصمة فرنسا هي باريس. تقع باريس في شمال فرنسا وتُعتبر واحدة من أكبر المدن في أوروبا والعالم. تشتهر باريس بمعالمها السياحية العديدة مثل برج إيفل ومتحف اللوفر وشانزليزيه. \n"
     ]
    }
   ],
   "source": [
    "import os\n",
    "from groq import Groq\n",
    "\n",
    "# Load the Groq API key from an environment variable\n",
    "api_key = os.environ.get(\"GROQ_API_KEY\")\n",
    "\n",
    "if not api_key:\n",
    "    print(\"Please set the GROQ_API_KEY environment variable.\")\n",
    "    exit()\n",
    "\n",
    "# Initialize the Groq client\n",
    "client = Groq(api_key=api_key)\n",
    "\n",
    "def call_llm(prompt):\n",
    "    # Create a chat completion\n",
    "    completion = client.chat.completions.create(\n",
    "        model=\"allam-2-7b\",\n",
    "        messages=[\n",
    "            {\"role\": \"user\", \"content\": prompt},\n",
    "        ],\n",
    "        max_tokens=2048,\n",
    "        stop=None,\n",
    "    )\n",
    "    return completion.choices[0].message.content\n",
    "\n",
    "# Define a sample prompt\n",
    "prompt1 = \"ما هي عاصمة فرسا؟\"\n",
    "response1 = call_llm(prompt1)\n",
    "print(response1)\n",
    "\n",
    "prompt2 = \"ما هي عاصمة فرنسا؟\"\n",
    "response2 = call_llm(prompt2)\n",
    "print(response2)"
   ]
  }
 ],
 "metadata": {
  "kernelspec": {
   "display_name": "myenv310",
   "language": "python",
   "name": "python3"
  },
  "language_info": {
   "codemirror_mode": {
    "name": "ipython",
    "version": 3
   },
   "file_extension": ".py",
   "mimetype": "text/x-python",
   "name": "python",
   "nbconvert_exporter": "python",
   "pygments_lexer": "ipython3",
   "version": "3.10.0"
  }
 },
 "nbformat": 4,
 "nbformat_minor": 5
}
