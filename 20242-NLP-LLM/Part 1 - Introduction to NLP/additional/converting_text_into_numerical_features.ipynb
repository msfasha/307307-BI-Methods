{
 "cells": [
  {
   "cell_type": "markdown",
   "metadata": {},
   "source": [
    "Source:https://www.coursera.org/learn/classification-vector-spaces-in-nlp/lecture/dDdRc/welcome-to-the-nlp-specialization"
   ]
  },
  {
   "cell_type": "markdown",
   "metadata": {},
   "source": [
    "To convert tweets into features suitable for a conventional machine learning classifier (like logistic regression) using classical NLP methods (no embeddings), you can follow these straightforward steps:"
   ]
  },
  {
   "cell_type": "markdown",
   "metadata": {},
   "source": [
    "### Step-by-step Feature Engineering:\n",
    "\n",
    "**Step 1: Define the sentiment vocabulary**\n",
    "- From your training tweets, identify and classify sentiment words into positive and negative categories (as previously shown).\n",
    "\n",
    "Example:\n",
    "\n",
    "| Positive words | Negative words |\n",
    "|---------------|----------------|\n",
    "| love          | worst          |\n",
    "| amazing       | wasted         |\n",
    "| fantastic     | horrible       |\n",
    "| great         | disappointed   |"
   ]
  },
  {
   "cell_type": "markdown",
   "metadata": {},
   "source": [
    "---"
   ]
  },
  {
   "cell_type": "markdown",
   "metadata": {},
   "source": [
    "### Step-by-step feature extraction:\n",
    "\n",
    "#### Example tweet:\n",
    "> `\"Amazing service and fantastic product!\"`\n",
    "\n",
    "**Preprocessing & Tokenization**:\n",
    "- Lowercase, remove punctuation:\n",
    "  - `amazing service and fantastic product`\n",
    "- Tokenize:\n",
    "  - `[\"amazing\", \"service\", \"and\", \"fantastic\", \"product\"]`\n",
    "\n",
    "**Feature Creation (count-based approach)**:\n",
    "We count occurrences of words classified previously as positive or negative:\n",
    "\n",
    "| Feature           | Count |\n",
    "|-------------------|-------|\n",
    "| Positive words count | 2 (`amazing`, `fantastic`) |\n",
    "| Negative words count| 0                           |\n",
    "| Total word count    | 5                           |\n",
    "\n",
    "**Feature vector** for this tweet:\n",
    "- `[Positive words: 2, Negative words: 0, Total words: 5]`"
   ]
  },
  {
   "cell_type": "markdown",
   "metadata": {},
   "source": [
    "---"
   ]
  },
  {
   "cell_type": "markdown",
   "metadata": {},
   "source": [
    "#### Repeat for other tweets (from previous examples):\n",
    "\n",
    "| Tweet ID | Positive words | Negative words | Total words | Sentiment |\n",
    "|----------|----------------|----------------|-------------|------------|\n",
    "| 1        | 2              | 0              | 7           | Positive   |\n",
    "| 2        | 0              | 2              | 6           | Negative   |\n",
    "| 3        | 0              | 0              | 6           | Neutral    |\n",
    "| 4        | 2              | 0              | 7           | Positive   |\n",
    "| 5        | 0              | 2              | 5           | Negative   |"
   ]
  },
  {
   "cell_type": "markdown",
   "metadata": {},
   "source": [
    "---"
   ]
  },
  {
   "cell_type": "markdown",
   "metadata": {},
   "source": [
    "### Using these features in Logistic Regression:\n",
    "- Input to ML classifier: numerical feature vectors (like `[2, 0, 5]`).\n",
    "- Model learns from the labeled data and assigns sentiment based on the patterns it detects in these numerical features.\n",
    "\n",
    "**In summary**, using classical NLP, the key idea is turning textual data into numerical feature vectors through simple statistical and lexical counting methods (positive/negative word counts, total words, etc.), suitable for machine learning classification."
   ]
  }
 ],
 "metadata": {
  "language_info": {
   "name": "python"
  }
 },
 "nbformat": 4,
 "nbformat_minor": 2
}
